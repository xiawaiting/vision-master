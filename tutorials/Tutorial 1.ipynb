
{
 "metadata": {
  "name": "",
  "signature": "sha256:5cd1d058a9f77077d51a991390e57bb52c39d4c105659800d818c65e8a805249"
 },
 "nbformat": 3,
 "nbformat_minor": 0,
 "worksheets": [
  {
   "cells": [
    {
     "cell_type": "markdown",
     "metadata": {},
     "source": [
      "Computer Vision: Tutorial 1\n",
      "===========================\n",
      "This tutorial is for the people who are complete beginners in the area of\n",
      "computer vision and image processing also aren't very familiar with numpy and\n",
      "other tools in python. It intends to give a good balance between the practical\n",
      "and the theoretical aspects of the area. I expect to finish the tutorial within\n",
      "2 hours."
     ]
    },
    {
     "cell_type": "markdown",
     "metadata": {},
     "source": [
      "### Prerequisites\n",
      "\n",
      "* Anaconda Package for the latest Python 2.x . That should include\n",
      "  the python interpretor, IPython, numpy, scipy and matplotlib. Anaconda can be\n",
      "  downloaded from Continuum's website. [Download Link](http://continuum.io/downloads)\n",
      "* Python imaging library(PIL). (NOTE: PIL is not supported for Python 3.x)\n",
      "  PIL can be installed with `conda` (installed with anaconda) using\n",
      "  command `conda install pil`\n",
      "* Very basic familiarity with Python: That can be gained from spending an hour or\n",
      "  two on [code academy](http://www.codecademy.com/en/tracks/python).\n",
      "  \n",
      "  "
     ]
    },
    {
     "cell_type": "markdown",
     "metadata": {},
     "source": [
      "What is an Image?\n",
      "-----------------\n",
      "(10 minutes)\n",
      "\n",
      "\n",
      "\n",
      "* The matrix view\n",
      "* The samples of a function view\n",
      "* Color spaces"
     ]
    },
    {
     "cell_type": "markdown",
     "metadata": {},
     "source": [
      "Using Python tools for image analysis and manipulation\n",
      "------------------------------------------------------"
     ]
    },
    {
     "cell_type": "markdown",
     "metadata": {},
     "source": [
      "### Basic numpy operations\n",
      "\n",
      "Numpy is a python library for the very fast manipulation of large arrays, multidimensional arrays and matrices. It has a lot of inbuild features that make these manipulation pretty easy."
     ]
    },
    {
     "cell_type": "markdown",
     "metadata": {},
     "source": [
      "#### Creating Numpy arrays\n",
      "``np.array`` function creates a numpy array out of python lists, or nested lists. Unlike Python lists which can have any type of element at any position Numpy arrays are homogenious. It means all elements are of the same type. The data type of the array can be specified by the keyword argument ``dtype``."
     ]
    },
    {
     "cell_type": "code",
     "collapsed": false,
     "input": [
      "import numpy as np\n",
      "\n",
      "arr = np.array([1, 2, 3, 4], dtype=np.uint8)\n",
      "print(type(arr))"
     ],
     "language": "python",
     "metadata": {},
     "outputs": [
      {
       "output_type": "stream",
       "stream": "stdout",
       "text": [
        "<type 'numpy.ndarray'>\n"
       ]
      }
     ],
     "prompt_number": 2
    },
    {
     "cell_type": "code",
     "collapsed": false,
     "input": [
      "arr = np.array([[1, 2],[2, 3],[3, 4]], dtype=np.uint8)\n",
      "print(arr)"
     ],
     "language": "python",
     "metadata": {},
     "outputs": [
      {
       "output_type": "stream",
       "stream": "stdout",
       "text": [
        "[[1 2]\n",
        " [2 3]\n",
        " [3 4]]\n"
       ]
      }
     ],
     "prompt_number": 5
    },
    {
     "cell_type": "markdown",
     "metadata": {},
     "source": [
      "Creating numpy array in which every element cannot be represented in the same type raises Value Error."
     ]
    },
    {
     "cell_type": "code",
     "collapsed": false,
     "input": [
      "arr = np.array([[1],[2, 3],[3, 4]], dtype=np.uint8)"
     ],
     "language": "python",
     "metadata": {},
     "outputs": [
      {
       "ename": "ValueError",
       "evalue": "setting an array element with a sequence.",
       "output_type": "pyerr",
       "traceback": [
        "\u001b[1;31m---------------------------------------------------------------------------\u001b[0m\n\u001b[1;31mValueError\u001b[0m                                Traceback (most recent call last)",
        "\u001b[1;32m<ipython-input-4-b72712c0bb92>\u001b[0m in \u001b[0;36m<module>\u001b[1;34m()\u001b[0m\n\u001b[1;32m----> 1\u001b[1;33m \u001b[0marr\u001b[0m \u001b[1;33m=\u001b[0m \u001b[0mnp\u001b[0m\u001b[1;33m.\u001b[0m\u001b[0marray\u001b[0m\u001b[1;33m(\u001b[0m\u001b[1;33m[\u001b[0m\u001b[1;33m[\u001b[0m\u001b[1;36m1\u001b[0m\u001b[1;33m]\u001b[0m\u001b[1;33m,\u001b[0m\u001b[1;33m[\u001b[0m\u001b[1;36m2\u001b[0m\u001b[1;33m,\u001b[0m \u001b[1;36m3\u001b[0m\u001b[1;33m]\u001b[0m\u001b[1;33m,\u001b[0m\u001b[1;33m[\u001b[0m\u001b[1;36m3\u001b[0m\u001b[1;33m,\u001b[0m \u001b[1;36m4\u001b[0m\u001b[1;33m]\u001b[0m\u001b[1;33m]\u001b[0m\u001b[1;33m,\u001b[0m \u001b[0mdtype\u001b[0m\u001b[1;33m=\u001b[0m\u001b[0mnp\u001b[0m\u001b[1;33m.\u001b[0m\u001b[0muint8\u001b[0m\u001b[1;33m)\u001b[0m\u001b[1;33m\u001b[0m\u001b[0m\n\u001b[0m",
        "\u001b[1;31mValueError\u001b[0m: setting an array element with a sequence."
       ]
      }
     ],
     "prompt_number": 4
    },
    {
     "cell_type": "code",
     "collapsed": false,
     "input": [
      "ten_cross_ten = np.array([range(i*10, (i + 1)*10) for i in range(10)])\n",
      "print(ten_cross_ten)"
     ],
     "language": "python",
     "metadata": {},
     "outputs": [
      {
       "output_type": "stream",
       "stream": "stdout",
       "text": [
        "[[ 0  1  2  3  4  5  6  7  8  9]\n",
        " [10 11 12 13 14 15 16 17 18 19]\n",
        " [20 21 22 23 24 25 26 27 28 29]\n",
        " [30 31 32 33 34 35 36 37 38 39]\n",
        " [40 41 42 43 44 45 46 47 48 49]\n",
        " [50 51 52 53 54 55 56 57 58 59]\n",
        " [60 61 62 63 64 65 66 67 68 69]\n",
        " [70 71 72 73 74 75 76 77 78 79]\n",
        " [80 81 82 83 84 85 86 87 88 89]\n",
        " [90 91 92 93 94 95 96 97 98 99]]\n"
       ]
      }
     ],
     "prompt_number": 12
    },
    {
     "cell_type": "markdown",
     "metadata": {},
     "source": [
      "The individual elements of the array can be acessed in the same way the values of a regular python nested list can be acessed."
     ]
    },
    {
     "cell_type": "code",
     "collapsed": false,
     "input": [
      "print(ten_cross_ten[1][1])"
     ],
     "language": "python",
     "metadata": {},
     "outputs": [
      {
       "output_type": "stream",
       "stream": "stdout",
       "text": [
        "11\n"
       ]
      }
     ],
     "prompt_number": 8
    },
    {
     "cell_type": "markdown",
     "metadata": {},
     "source": [
      "#### Slicing\n",
      "* The basic slice syntax is i:j:k where i is the starting index, j is the stopping index, and k is the step ($k\\neq0$). This selects the m elements (in the corresponding dimension) with index values i, i + k, ..., i + (m - 1) k where m = q + ($r\\neq0$) and q and r are the quotient and remainder obtained by dividing j - i by k: j - i = q k + r, so that i + (m - 1) k < j"
     ]
    },
    {
     "cell_type": "code",
     "collapsed": false,
     "input": [
      "x = np.array([0, 1, 2, 3, 4, 5, 6, 7, 8, 9])\n",
      "x[1:7:2]"
     ],
     "language": "python",
     "metadata": {},
     "outputs": [
      {
       "metadata": {},
       "output_type": "pyout",
       "prompt_number": 6,
       "text": [
        "array([1, 3, 5])"
       ]
      }
     ],
     "prompt_number": 6
    },
    {
     "cell_type": "markdown",
     "metadata": {},
     "source": [
      "* Negative i and j are interpreted as n + i and n + j where n is the number of elements in the corresponding dimension. Negative k makes stepping go towards smaller indices."
     ]
    },
    {
     "cell_type": "code",
     "collapsed": false,
     "input": [
      "x[-2:10]"
     ],
     "language": "python",
     "metadata": {},
     "outputs": [
      {
       "metadata": {},
       "output_type": "pyout",
       "prompt_number": 7,
       "text": [
        "array([8, 9])"
       ]
      }
     ],
     "prompt_number": 7
    },
    {
     "cell_type": "code",
     "collapsed": false,
     "input": [
      "x[-3:3:-1]"
     ],
     "language": "python",
     "metadata": {},
     "outputs": [
      {
       "metadata": {},
       "output_type": "pyout",
       "prompt_number": 9,
       "text": [
        "array([7, 6, 5, 4])"
       ]
      }
     ],
     "prompt_number": 9
    },
    {
     "cell_type": "markdown",
     "metadata": {},
     "source": [
      "* Assume n is the number of elements in the dimension being sliced. Then, if i is not given it defaults to 0 for k > 0 and n for k < 0 . If j is not given it defaults to n for k > 0 and -1 for k < 0 . If k is not given it defaults to 1. Note that :: is the same as : and means select all indices along this axis."
     ]
    },
    {
     "cell_type": "code",
     "collapsed": false,
     "input": [
      "x[5:]"
     ],
     "language": "python",
     "metadata": {},
     "outputs": [
      {
       "metadata": {},
       "output_type": "pyout",
       "prompt_number": 10,
       "text": [
        "array([5, 6, 7, 8, 9])"
       ]
      }
     ],
     "prompt_number": 10
    },
    {
     "cell_type": "markdown",
     "metadata": {},
     "source": [
      "Now suppose you want to select the first two coloums from the first five rows."
     ]
    },
    {
     "cell_type": "code",
     "collapsed": false,
     "input": [
      "ten_cross_ten[:5][:2]"
     ],
     "language": "python",
     "metadata": {},
     "outputs": [
      {
       "metadata": {},
       "output_type": "pyout",
       "prompt_number": 23,
       "text": [
        "array([[ 0,  1,  2,  3,  4,  5,  6,  7,  8,  9],\n",
        "       [10, 11, 12, 13, 14, 15, 16, 17, 18, 19]])"
       ]
      }
     ],
     "prompt_number": 23
    },
    {
     "cell_type": "markdown",
     "metadata": {},
     "source": [
      "Well it didn't worked out this way. Can any one of you explain why?"
     ]
    },
    {
     "cell_type": "code",
     "collapsed": false,
     "input": [
      "ten_cross_ten[:5]"
     ],
     "language": "python",
     "metadata": {},
     "outputs": [
      {
       "metadata": {},
       "output_type": "pyout",
       "prompt_number": 24,
       "text": [
        "array([[ 0,  1,  2,  3,  4,  5,  6,  7,  8,  9],\n",
        "       [10, 11, 12, 13, 14, 15, 16, 17, 18, 19],\n",
        "       [20, 21, 22, 23, 24, 25, 26, 27, 28, 29],\n",
        "       [30, 31, 32, 33, 34, 35, 36, 37, 38, 39],\n",
        "       [40, 41, 42, 43, 44, 45, 46, 47, 48, 49]])"
       ]
      }
     ],
     "prompt_number": 24
    },
    {
     "cell_type": "markdown",
     "metadata": {},
     "source": [
      "Now you must have guessed, `ten_cross_ten[:5][:2]` selects the first two elements from the output of `ten_cross_ten[:5]`. So to do our desired operation you have to do the following:"
     ]
    },
    {
     "cell_type": "code",
     "collapsed": false,
     "input": [
      "ten_cross_ten[:5, :5]"
     ],
     "language": "python",
     "metadata": {},
     "outputs": [
      {
       "metadata": {},
       "output_type": "pyout",
       "prompt_number": 25,
       "text": [
        "array([[ 0,  1,  2,  3,  4],\n",
        "       [10, 11, 12, 13, 14],\n",
        "       [20, 21, 22, 23, 24],\n",
        "       [30, 31, 32, 33, 34],\n",
        "       [40, 41, 42, 43, 44]])"
       ]
      }
     ],
     "prompt_number": 25
    },
    {
     "cell_type": "markdown",
     "metadata": {},
     "source": [
      "I hope you get the point. This works for arrays with higher dimentions."
     ]
    },
    {
     "cell_type": "markdown",
     "metadata": {},
     "source": [
      "**Exercise**: Print the matrix formed by the even elements"
     ]
    },
    {
     "cell_type": "markdown",
     "metadata": {},
     "source": []
    },
    {
     "cell_type": "markdown",
     "metadata": {},
     "source": [
      "#### Point wise operations"
     ]
    },
    {
     "cell_type": "code",
     "collapsed": false,
     "input": [
      "ten_cross_ten + 1"
     ],
     "language": "python",
     "metadata": {},
     "outputs": [
      {
       "metadata": {},
       "output_type": "pyout",
       "prompt_number": 26,
       "text": [
        "array([[  1,   2,   3,   4,   5,   6,   7,   8,   9,  10],\n",
        "       [ 11,  12,  13,  14,  15,  16,  17,  18,  19,  20],\n",
        "       [ 21,  22,  23,  24,  25,  26,  27,  28,  29,  30],\n",
        "       [ 31,  32,  33,  34,  35,  36,  37,  38,  39,  40],\n",
        "       [ 41,  42,  43,  44,  45,  46,  47,  48,  49,  50],\n",
        "       [ 51,  52,  53,  54,  55,  56,  57,  58,  59,  60],\n",
        "       [ 61,  62,  63,  64,  65,  66,  67,  68,  69,  70],\n",
        "       [ 71,  72,  73,  74,  75,  76,  77,  78,  79,  80],\n",
        "       [ 81,  82,  83,  84,  85,  86,  87,  88,  89,  90],\n",
        "       [ 91,  92,  93,  94,  95,  96,  97,  98,  99, 100]])"
       ]
      }
     ],
     "prompt_number": 26
    },
    {
     "cell_type": "code",
     "collapsed": false,
     "input": [
      "ten_cross_ten * ten_cross_ten"
     ],
     "language": "python",
     "metadata": {},
     "outputs": [
      {
       "metadata": {},
       "output_type": "pyout",
       "prompt_number": 27,
       "text": [
        "array([[   0,    1,    4,    9,   16,   25,   36,   49,   64,   81],\n",
        "       [ 100,  121,  144,  169,  196,  225,  256,  289,  324,  361],\n",
        "       [ 400,  441,  484,  529,  576,  625,  676,  729,  784,  841],\n",
        "       [ 900,  961, 1024, 1089, 1156, 1225, 1296, 1369, 1444, 1521],\n",
        "       [1600, 1681, 1764, 1849, 1936, 2025, 2116, 2209, 2304, 2401],\n",
        "       [2500, 2601, 2704, 2809, 2916, 3025, 3136, 3249, 3364, 3481],\n",
        "       [3600, 3721, 3844, 3969, 4096, 4225, 4356, 4489, 4624, 4761],\n",
        "       [4900, 5041, 5184, 5329, 5476, 5625, 5776, 5929, 6084, 6241],\n",
        "       [6400, 6561, 6724, 6889, 7056, 7225, 7396, 7569, 7744, 7921],\n",
        "       [8100, 8281, 8464, 8649, 8836, 9025, 9216, 9409, 9604, 9801]])"
       ]
      }
     ],
     "prompt_number": 27
    },
    {
     "cell_type": "markdown",
     "metadata": {},
     "source": [
      "#### Operations on regions"
     ]
    },
    {
     "cell_type": "code",
     "collapsed": false,
     "input": [
      "ten_cross_ten[:5, :5] = 0\n",
      "print(ten_cross_ten)"
     ],
     "language": "python",
     "metadata": {},
     "outputs": [
      {
       "output_type": "stream",
       "stream": "stdout",
       "text": [
        "[[ 0  0  0  0  0  5  6  7  8  9]\n",
        " [ 0  0  0  0  0 15 16 17 18 19]\n",
        " [ 0  0  0  0  0 25 26 27 28 29]\n",
        " [ 0  0  0  0  0 35 36 37 38 39]\n",
        " [ 0  0  0  0  0 45 46 47 48 49]\n",
        " [50 51 52 53 54 55 56 57 58 59]\n",
        " [60 61 62 63 64 65 66 67 68 69]\n",
        " [70 71 72 73 74 75 76 77 78 79]\n",
        " [80 81 82 83 84 85 86 87 88 89]\n",
        " [90 91 92 93 94 95 96 97 98 99]]\n"
       ]
      }
     ],
     "prompt_number": 31
    },
    {
     "cell_type": "code",
     "collapsed": false,
     "input": [
      "ten_cross_ten[6, :] = 0\n",
      "print(ten_cross_ten)"
     ],
     "language": "python",
     "metadata": {},
     "outputs": [
      {
       "output_type": "stream",
       "stream": "stdout",
       "text": [
        "[[ 0  0  0  0  0  5  6  7  8  9]\n",
        " [ 0  0  0  0  0 15 16 17 18 19]\n",
        " [ 0  0  0  0  0 25 26 27 28 29]\n",
        " [ 0  0  0  0  0 35 36 37 38 39]\n",
        " [ 0  0  0  0  0 45 46 47 48 49]\n",
        " [50 51 52 53 54 55 56 57 58 59]\n",
        " [ 0  0  0  0  0  0  0  0  0  0]\n",
        " [70 71 72 73 74 75 76 77 78 79]\n",
        " [80 81 82 83 84 85 86 87 88 89]\n",
        " [90 91 92 93 94 95 96 97 98 99]]\n"
       ]
      }
     ],
     "prompt_number": 32
    },
    {
     "cell_type": "markdown",
     "metadata": {},
     "source": [
      "* Exercise 1:"
     ]
    },
    {
     "cell_type": "code",
     "collapsed": false,
     "input": [],
     "language": "python",
     "metadata": {},
     "outputs": []
    },
    {
     "cell_type": "markdown",
     "metadata": {},
     "source": [
      "### Basic Image Processing (40 minutes)\n",
      "\n",
      "* **Loading an image**\n",
      "\n",
      "We will need the imread function from the scipy to read the images from the files"
     ]
    },
    {
     "cell_type": "code",
     "collapsed": false,
     "input": [
      "from scipy.misc import imread\n",
      "panda = imread('panda.jpg')"
     ],
     "language": "python",
     "metadata": {},
     "outputs": [],
     "prompt_number": 1
    },
    {
     "cell_type": "markdown",
     "metadata": {},
     "source": [
      "* **Displaying an image**\n",
      "\n",
      "To display images you will another library called matplotlib. The `%matplotlib inline` magic of IPython has to set to display results inline in the notebook."
     ]
    },
    {
     "cell_type": "code",
     "collapsed": false,
     "input": [
      "%matplotlib inline\n",
      "import matplotlib.pyplot as plt"
     ],
     "language": "python",
     "metadata": {},
     "outputs": [],
     "prompt_number": 2
    },
    {
     "cell_type": "code",
     "collapsed": false,
     "input": [
      "plt.imshow(panda)"
     ],
     "language": "python",
     "metadata": {},
     "outputs": [
      {
       "metadata": {},
       "output_type": "pyout",
       "prompt_number": 3,
       "text": [
        "<matplotlib.image.AxesImage at 0x7f02aebd00d0>"
       ]
      },
      {
       "metadata": {},
       "output_type": "display_data",
       "png": "iVBORw0KGgoAAAANSUhEUgAAAOQAAAEACAYAAACj9dqtAAAABHNCSVQICAgIfAhkiAAAAAlwSFlz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\nzDDDDJeP/wmqciYIRqSjqgAAAABJRU5ErkJggg==\n",
       "text": [
        "<matplotlib.figure.Figure at 0x7f02b0aebc10>"
       ]
      }
     ],
     "prompt_number": 3
    },
    {
     "cell_type": "code",
     "collapsed": false,
     "input": [
      "panda.shape"
     ],
     "language": "python",
     "metadata": {},
     "outputs": [
      {
       "metadata": {},
       "output_type": "pyout",
       "prompt_number": 4,
       "text": [
        "(1400, 1170, 3)"
       ]
      }
     ],
     "prompt_number": 4
    },
    {
     "cell_type": "markdown",
     "metadata": {},
     "source": [
      "A colored image can be seen as a 3 dimentional array. So every pixel is an array of size 3"
     ]
    },
    {
     "cell_type": "code",
     "collapsed": false,
     "input": [