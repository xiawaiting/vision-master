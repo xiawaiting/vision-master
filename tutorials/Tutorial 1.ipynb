
{
 "metadata": {
  "name": "",
  "signature": "sha256:5cd1d058a9f77077d51a991390e57bb52c39d4c105659800d818c65e8a805249"
 },
 "nbformat": 3,
 "nbformat_minor": 0,
 "worksheets": [
  {
   "cells": [
    {
     "cell_type": "markdown",
     "metadata": {},
     "source": [
      "Computer Vision: Tutorial 1\n",
      "===========================\n",
      "This tutorial is for the people who are complete beginners in the area of\n",
      "computer vision and image processing also aren't very familiar with numpy and\n",
      "other tools in python. It intends to give a good balance between the practical\n",
      "and the theoretical aspects of the area. I expect to finish the tutorial within\n",
      "2 hours."
     ]
    },
    {
     "cell_type": "markdown",
     "metadata": {},
     "source": [
      "### Prerequisites\n",
      "\n",
      "* Anaconda Package for the latest Python 2.x . That should include\n",
      "  the python interpretor, IPython, numpy, scipy and matplotlib. Anaconda can be\n",
      "  downloaded from Continuum's website. [Download Link](http://continuum.io/downloads)\n",
      "* Python imaging library(PIL). (NOTE: PIL is not supported for Python 3.x)\n",
      "  PIL can be installed with `conda` (installed with anaconda) using\n",
      "  command `conda install pil`\n",
      "* Very basic familiarity with Python: That can be gained from spending an hour or\n",
      "  two on [code academy](http://www.codecademy.com/en/tracks/python).\n",
      "  \n",
      "  "
     ]
    },
    {
     "cell_type": "markdown",
     "metadata": {},
     "source": [
      "What is an Image?\n",
      "-----------------\n",
      "(10 minutes)\n",
      "\n",
      "\n",
      "\n",
      "* The matrix view\n",
      "* The samples of a function view\n",
      "* Color spaces"
     ]
    },
    {
     "cell_type": "markdown",
     "metadata": {},
     "source": [
      "Using Python tools for image analysis and manipulation\n",
      "------------------------------------------------------"
     ]
    },
    {
     "cell_type": "markdown",
     "metadata": {},
     "source": [
      "### Basic numpy operations\n",
      "\n",
      "Numpy is a python library for the very fast manipulation of large arrays, multidimensional arrays and matrices. It has a lot of inbuild features that make these manipulation pretty easy."
     ]
    },
    {
     "cell_type": "markdown",
     "metadata": {},
     "source": [
      "#### Creating Numpy arrays\n",
      "``np.array`` function creates a numpy array out of python lists, or nested lists. Unlike Python lists which can have any type of element at any position Numpy arrays are homogenious. It means all elements are of the same type. The data type of the array can be specified by the keyword argument ``dtype``."
     ]
    },
    {
     "cell_type": "code",
     "collapsed": false,
     "input": [
      "import numpy as np\n",
      "\n",
      "arr = np.array([1, 2, 3, 4], dtype=np.uint8)\n",
      "print(type(arr))"
     ],
     "language": "python",
     "metadata": {},
     "outputs": [
      {
       "output_type": "stream",
       "stream": "stdout",
       "text": [
        "<type 'numpy.ndarray'>\n"
       ]
      }