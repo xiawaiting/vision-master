
{
 "metadata": {
  "name": "",
  "signature": "sha256:5cd1d058a9f77077d51a991390e57bb52c39d4c105659800d818c65e8a805249"
 },
 "nbformat": 3,
 "nbformat_minor": 0,
 "worksheets": [
  {
   "cells": [
    {
     "cell_type": "markdown",
     "metadata": {},
     "source": [
      "Computer Vision: Tutorial 1\n",
      "===========================\n",
      "This tutorial is for the people who are complete beginners in the area of\n",
      "computer vision and image processing also aren't very familiar with numpy and\n",
      "other tools in python. It intends to give a good balance between the practical\n",
      "and the theoretical aspects of the area. I expect to finish the tutorial within\n",
      "2 hours."
     ]
    },
    {
     "cell_type": "markdown",
     "metadata": {},
     "source": [
      "### Prerequisites\n",
      "\n",
      "* Anaconda Package for the latest Python 2.x . That should include\n",
      "  the python interpretor, IPython, numpy, scipy and matplotlib. Anaconda can be\n",
      "  downloaded from Continuum's website. [Download Link](http://continuum.io/downloads)\n",
      "* Python imaging library(PIL). (NOTE: PIL is not supported for Python 3.x)\n",
      "  PIL can be installed with `conda` (installed with anaconda) using\n",
      "  command `conda install pil`\n",
      "* Very basic familiarity with Python: That can be gained from spending an hour or\n",
      "  two on [code academy](http://www.codecademy.com/en/tracks/python).\n",
      "  \n",
      "  "
     ]
    },
    {
     "cell_type": "markdown",
     "metadata": {},
     "source": [
      "What is an Image?\n",
      "-----------------\n",
      "(10 minutes)\n",
      "\n",
      "\n",
      "\n",
      "* The matrix view\n",
      "* The samples of a function view\n",
      "* Color spaces"
     ]
    },
    {
     "cell_type": "markdown",
     "metadata": {},
     "source": [
      "Using Python tools for image analysis and manipulation\n",
      "------------------------------------------------------"
     ]
    },
    {
     "cell_type": "markdown",
     "metadata": {},
     "source": [
      "### Basic numpy operations\n",
      "\n",
      "Numpy is a python library for the very fast manipulation of large arrays, multidimensional arrays and matrices. It has a lot of inbuild features that make these manipulation pretty easy."
     ]
    },
    {
     "cell_type": "markdown",
     "metadata": {},
     "source": [
      "#### Creating Numpy arrays\n",
      "``np.array`` function creates a numpy array out of python lists, or nested lists. Unlike Python lists which can have any type of element at any position Numpy arrays are homogenious. It means all elements are of the same type. The data type of the array can be specified by the keyword argument ``dtype``."
     ]
    },
    {
     "cell_type": "code",
     "collapsed": false,
     "input": [
      "import numpy as np\n",
      "\n",
      "arr = np.array([1, 2, 3, 4], dtype=np.uint8)\n",
      "print(type(arr))"
     ],
     "language": "python",
     "metadata": {},
     "outputs": [
      {
       "output_type": "stream",
       "stream": "stdout",
       "text": [
        "<type 'numpy.ndarray'>\n"
       ]
      }
     ],
     "prompt_number": 2
    },
    {
     "cell_type": "code",
     "collapsed": false,
     "input": [
      "arr = np.array([[1, 2],[2, 3],[3, 4]], dtype=np.uint8)\n",
      "print(arr)"
     ],
     "language": "python",
     "metadata": {},
     "outputs": [
      {
       "output_type": "stream",
       "stream": "stdout",
       "text": [
        "[[1 2]\n",
        " [2 3]\n",
        " [3 4]]\n"
       ]
      }
     ],
     "prompt_number": 5
    },
    {
     "cell_type": "markdown",
     "metadata": {},
     "source": [
      "Creating numpy array in which every element cannot be represented in the same type raises Value Error."
     ]
    },
    {
     "cell_type": "code",
     "collapsed": false,
     "input": [
      "arr = np.array([[1],[2, 3],[3, 4]], dtype=np.uint8)"
     ],
     "language": "python",
     "metadata": {},
     "outputs": [
      {
       "ename": "ValueError",
       "evalue": "setting an array element with a sequence.",
       "output_type": "pyerr",
       "traceback": [
        "\u001b[1;31m---------------------------------------------------------------------------\u001b[0m\n\u001b[1;31mValueError\u001b[0m                                Traceback (most recent call last)",
        "\u001b[1;32m<ipython-input-4-b72712c0bb92>\u001b[0m in \u001b[0;36m<module>\u001b[1;34m()\u001b[0m\n\u001b[1;32m----> 1\u001b[1;33m \u001b[0marr\u001b[0m \u001b[1;33m=\u001b[0m \u001b[0mnp\u001b[0m\u001b[1;33m.\u001b[0m\u001b[0marray\u001b[0m\u001b[1;33m(\u001b[0m\u001b[1;33m[\u001b[0m\u001b[1;33m[\u001b[0m\u001b[1;36m1\u001b[0m\u001b[1;33m]\u001b[0m\u001b[1;33m,\u001b[0m\u001b[1;33m[\u001b[0m\u001b[1;36m2\u001b[0m\u001b[1;33m,\u001b[0m \u001b[1;36m3\u001b[0m\u001b[1;33m]\u001b[0m\u001b[1;33m,\u001b[0m\u001b[1;33m[\u001b[0m\u001b[1;36m3\u001b[0m\u001b[1;33m,\u001b[0m \u001b[1;36m4\u001b[0m\u001b[1;33m]\u001b[0m\u001b[1;33m]\u001b[0m\u001b[1;33m,\u001b[0m \u001b[0mdtype\u001b[0m\u001b[1;33m=\u001b[0m\u001b[0mnp\u001b[0m\u001b[1;33m.\u001b[0m\u001b[0muint8\u001b[0m\u001b[1;33m)\u001b[0m\u001b[1;33m\u001b[0m\u001b[0m\n\u001b[0m",
        "\u001b[1;31mValueError\u001b[0m: setting an array element with a sequence."
       ]
      }
     ],
     "prompt_number": 4
    },
    {
     "cell_type": "code",
     "collapsed": false,
     "input": [
      "ten_cross_ten = np.array([range(i*10, (i + 1)*10) for i in range(10)])\n",
      "print(ten_cross_ten)"
     ],
     "language": "python",
     "metadata": {},
     "outputs": [
      {
       "output_type": "stream",
       "stream": "stdout",
       "text": [
        "[[ 0  1  2  3  4  5  6  7  8  9]\n",
        " [10 11 12 13 14 15 16 17 18 19]\n",
        " [20 21 22 23 24 25 26 27 28 29]\n",
        " [30 31 32 33 34 35 36 37 38 39]\n",
        " [40 41 42 43 44 45 46 47 48 49]\n",
        " [50 51 52 53 54 55 56 57 58 59]\n",
        " [60 61 62 63 64 65 66 67 68 69]\n",
        " [70 71 72 73 74 75 76 77 78 79]\n",
        " [80 81 82 83 84 85 86 87 88 89]\n",
        " [90 91 92 93 94 95 96 97 98 99]]\n"
       ]
      }
     ],
     "prompt_number": 12
    },
    {
     "cell_type": "markdown",
     "metadata": {},
     "source": [
      "The individual elements of the array can be acessed in the same way the values of a regular python nested list can be acessed."
     ]
    },
    {
     "cell_type": "code",
     "collapsed": false,
     "input": [